{
  "cells": [
    {
      "cell_type": "markdown",
      "metadata": {},
      "source": [
        "About this site"
      ]
    },
    {
      "cell_type": "markdown",
      "metadata": {},
      "source": [
        "---\n",
        "title: \"simple_quarto_website\"\n",
        "---\n",
        "\n",
        "## Test"
      ]
    }
  ],
  "metadata": {
    "kernelspec": {
      "display_name": "Python 3 (ipykernel)",
      "language": "python",
      "name": "python3"
    }
  },
  "nbformat": 4,
  "nbformat_minor": 4
}
