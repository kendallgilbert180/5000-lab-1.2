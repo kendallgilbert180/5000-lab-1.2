{
 "cells": [
  {
   "cell_type": "markdown",
   "metadata": {},
   "source": [
    "---\n",
    "title: \"Habits\"\n",
    "author: \"Kendall Gilbert\"\n",
    "format: revealjs\n",
    "bibliography: ../reference.bib\n",
    "code-fold: true\n",
    "\n",
    "---"
   ]
  },
  {
   "cell_type": "markdown",
   "metadata": {},
   "source": [
    "## Slide 1\n",
    "\n",
    "- This is the first slide\n",
    "- You can refer to references here! [@2023]\n",
    "\n",
    "## Slide 2\n",
    "This is the third slide with images:\n",
    "\n",
    "![Image 1](images/image1.png)\n",
    "![Image 2](images/image2.png)\n",
    "\n",
    "## Slide 3\n",
    "This slide has Python Code\n",
    "```{.python }\n",
    "import matplotlib.pyplot as plt\n",
    "x = [1, 2, 3, 4, 5]\n",
    "y = [10, 15, 20, 25, 40]\n",
    "plt.plot(x,y)\n",
    "plt.show()\n",
    "```\n"
   ]
  },
  {
   "cell_type": "markdown",
   "metadata": {},
   "source": []
  }
 ],
 "metadata": {
  "kernelspec": {
   "display_name": "base",
   "language": "python",
   "name": "python3"
  },
  "language_info": {
   "name": "python",
   "version": "3.10.9"
  },
  "orig_nbformat": 4
 },
 "nbformat": 4,
 "nbformat_minor": 2
}
